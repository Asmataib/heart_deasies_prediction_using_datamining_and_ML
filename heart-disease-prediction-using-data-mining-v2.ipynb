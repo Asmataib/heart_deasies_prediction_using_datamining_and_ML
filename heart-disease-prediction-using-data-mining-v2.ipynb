{
 "cells": [
  {
   "cell_type": "markdown",
   "metadata": {},
   "source": [
    "\n",
    "<h1 id=\"heart-disease-prediction-using-data-mining\" style=\"direction: rtl; text-align: center;\"><span style=\"color: #c80000;\"><span style=\"background-color: #d0d0d0;\">&nbsp;heart disease prediction using data mining and ML</span></h1>\n",
    "<p style=\"direction: rtl;\">&nbsp;</p>\n",
    "\n",
    "\n",
    "<p>&nbsp;</p>\n",
    "<h2 style=\"direction: ltr;\"><span style=\"color: #666666 ;  text-align: center;\">Framingham Heart study dataset</span></h2>\n",
    "<h4 style=\"direction: ltr; text-align: left;\"><span style=\"color: #ff4444 ;\"><span style=\"background-color: #d0d0d0;\">includes several demographic risk factors:</span></h4>\n",
    "<p style=\"direction: ltr; text-align: left;\">- sex: male or female.</p>\n",
    "<p style=\"direction: ltr; text-align: left;\">-age: age of the patient.</p>\n",
    "<p style=\"direction: ltr; text-align: left;\">- education: levels coded 1 for some high school, 2 for a high school diploma or GED, 3 for some college or vocational school, and 4 for a college degree.</p>\n",
    "<p style=\"direction: ltr; text-align: left;\">&nbsp;</p>\n",
    "<h4 style=\"direction: ltr; text-align: left;\"><span style=\"color: #ff4444;\"><span style=\"background-color: #d0d0d0;\">The data set also includes behavioral risk factors associated with smoking :</span></h4>\n",
    "<p style=\"direction: ltr; text-align: left;\">- currentSmoker: whether or not the patient is a current smoker</p>\n",
    "<p style=\"direction: ltr; text-align: left;\">- cigsPerDay: the number of cigarettes that the person smoked on average in one day.</p>\n",
    "<p style=\"direction: ltr; text-align: left;\">&nbsp;</p>\n",
    "<h4 style=\"direction: ltr; text-align: left;\"><span style=\"color: #ff4444;\"><span style=\"background-color: #d0d0d0;\">Medical history risk factors:</span></h4>\n",
    "<p style=\"direction: ltr; text-align: left;\">- BPMeds: whether or not the patient was on blood pressure medication .</p>\n",
    "<p style=\"direction: ltr; text-align: left;\">- prevalentStroke: whether or not the patient had previously had a stroke .</p>\n",
    "<p style=\"direction: ltr; text-align: left;\">- prevalentHyp: whether or not the patient was hypertensive.</p>\n",
    "<p style=\"direction: ltr; text-align: left;\">- diabetes: whether or not the patient had diabetes</p>\n",
    "<h4 style=\"direction: ltr; text-align: left;\"><span style=\"color: #ff4444;\"><span style=\"background-color: #d0d0d0;\">Risk factors from the first physical examination of the patient.</span></h4>\n",
    "<p style=\"direction: rtl; text-align: left;\">- totChol: total cholesterol level .</p>\n",
    "<p style=\"direction: rtl; text-align: left;\">- sysBP: systolic blood pressure.</p>\n",
    "<p style=\"direction: rtl; text-align: left;\">- diaBP: diastolic blood.</p>\n",
    "<p style=\"direction: rtl; text-align: left;\">- pressure BMI: Body Mass Index .</p>\n",
    "<p style=\"direction: rtl; text-align: left;\">- heartRate: heart rate.</p>\n",
    "<p style=\"direction: rtl; text-align: left;\">- glucose: glucose level .</p>\n",
    "<p style=\"direction: rtl; text-align: left;\">- TenYearCHD: 10 year risk of coronary heart disease CHD .</p>"
   ]
  },
  {
   "cell_type": "markdown",
   "metadata": {},
   "source": [
    "<h3 style=\"direction: ltr; text-align: left;\"><span style=\"color: #666666;\">information about project work's enveroment :&nbsp;</span></h3>\n",
    "\n",
    "<p style=\"direction: ltr; text-align: left ;\"><span style=\"color: #ffff00;\"><span style=\"background-color: #d0d0d0;\"><strong>-  Anaconda 5.0.1  .</strong></p>\n",
    "<p style=\"direction: ltr; text-align: left ;\"><span style=\"color: #ffff00;\"><span style=\"background-color: #d0d0d0;\"><strong>- progrmming languge python 3.6 .</strong></p>\n",
    "<p style=\"direction: ltr; text-align: left;\"><span style=\"color: #ffff00;\"><span style=\"background-color: #d0d0d0;\"><strong>- work's enveroment Jupyter Notebook 5 .</strong></p>\n",
    "<p style=\"direction: ltr; text-align: left;\">* we use anaconda becouse it include both inveroment and paython \n",
    " ،&nbsp;</span></p>\n",
    "<p style=\"direction: ltr; text-align:left;\"><a href=\"https://www.anaconda.com/download/\" target=\"_blank\" rel=\"noopener\">link for download </a></p>\n",
    "<p style=\"direction: ltr; text-align: left;\"><br /><br /></p>"
   ]
  },
  {
   "cell_type": "markdown",
   "metadata": {
    "collapsed": true
   },
   "source": [
    "<h2 style=\"direction: ltr; text-align: left;\"><span style=\"background-color: #d0d0d0;\"><span style=\"color: #c80000;\"> all laiberary in our project  :&nbsp;</span></h2>"
   ]
  },
  {
   "cell_type": "code",
   "execution_count": 1,
   "metadata": {},
   "outputs": [
    {
     "name": "stderr",
     "output_type": "stream",
     "text": [
      "C:\\ProgramData\\Anaconda3\\lib\\site-packages\\sklearn\\cross_validation.py:41: DeprecationWarning: This module was deprecated in version 0.18 in favor of the model_selection module into which all the refactored classes and functions are moved. Also note that the interface of the new CV iterators are different from that of this module. This module will be removed in 0.20.\n",
      "  \"This module will be removed in 0.20.\", DeprecationWarning)\n"
     ]
    }
   ],
   "source": [
    "import warnings\n",
    "warnings.filterwarnings('ignore')\n",
    "\n",
    "%config IPCompleter.greedy=True\n",
    "\n",
    "%matplotlib inline\n",
    "import matplotlib.pyplot as plt\n",
    "import random\n",
    "import numpy as np\n",
    "import pandas as pd\n",
    "\n",
    "from sklearn.cross_validation import train_test_split\n",
    "from sklearn.tree import DecisionTreeClassifier\n",
    "from sklearn.metrics import accuracy_score\n",
    "from sklearn import tree    \n",
    "import sklearn.ensemble as ske\n",
    "\n",
    "    \n",
    "import seaborn as sns\n",
    "sns.set(color_codes=True)"
   ]
  },
  {
   "cell_type": "markdown",
   "metadata": {},
   "source": [
    "<h1 style=\"direction: ltr; text-align: left; \"><span style=\"background-color: #d0d0d0;\"><span style=\"color: #c80000;\">analysis and discover the dataset </span></h1>\n",
    "<h2 style=\"direction:ltr;text-align: left;\"><span style=\"color: #ffff00 ;\"><span style=\"background-color: #d0d0d0;\">reduce the data </span></h2>\n"
   ]
  },
  {
   "cell_type": "markdown",
   "metadata": {},
   "source": [
    "\n",
    "\n",
    "\n",
    "<p style=\"text-align: left;\">read the dataset:\n",
    ".heart_data.csv </p>\n",
    "\n",
    "\n"
   ]
  },
  {
   "cell_type": "code",
   "execution_count": 2,
   "metadata": {},
   "outputs": [],
   "source": [
    "DataSet = pd.read_csv('heart_data.csv')"
   ]
  },
  {
   "cell_type": "markdown",
   "metadata": {},
   "source": [
    "<p style=\"text-align: left;\"><strong><span style=\"background-color: #d0d0d0;\"><span style=\"color: #ffff00;\">  sample from data in our project</span></strong></p>"
   ]
  },
  {
   "cell_type": "code",
   "execution_count": 3,
   "metadata": {},
   "outputs": [
    {
     "data": {
      "text/html": [
       "<div>\n",
       "<style scoped>\n",
       "    .dataframe tbody tr th:only-of-type {\n",
       "        vertical-align: middle;\n",
       "    }\n",
       "\n",
       "    .dataframe tbody tr th {\n",
       "        vertical-align: top;\n",
       "    }\n",
       "\n",
       "    .dataframe thead th {\n",
       "        text-align: right;\n",
       "    }\n",
       "</style>\n",
       "<table border=\"1\" class=\"dataframe\">\n",
       "  <thead>\n",
       "    <tr style=\"text-align: right;\">\n",
       "      <th></th>\n",
       "      <th>male</th>\n",
       "      <th>age</th>\n",
       "      <th>education</th>\n",
       "      <th>currentSmoker</th>\n",
       "      <th>cigsPerDay</th>\n",
       "      <th>BPMeds</th>\n",
       "      <th>prevalentStroke</th>\n",
       "      <th>prevalentHyp</th>\n",
       "      <th>diabetes</th>\n",
       "      <th>totChol</th>\n",
       "      <th>sysBP</th>\n",
       "      <th>diaBP</th>\n",
       "      <th>BMI</th>\n",
       "      <th>heartRate</th>\n",
       "      <th>glucose</th>\n",
       "      <th>TenYearCHD</th>\n",
       "    </tr>\n",
       "  </thead>\n",
       "  <tbody>\n",
       "    <tr>\n",
       "      <th>3497</th>\n",
       "      <td>1</td>\n",
       "      <td>50</td>\n",
       "      <td>1.0</td>\n",
       "      <td>0</td>\n",
       "      <td>0.0</td>\n",
       "      <td>0.0</td>\n",
       "      <td>0</td>\n",
       "      <td>0</td>\n",
       "      <td>0</td>\n",
       "      <td>204.0</td>\n",
       "      <td>122.0</td>\n",
       "      <td>81.0</td>\n",
       "      <td>32.22</td>\n",
       "      <td>63.0</td>\n",
       "      <td>73.0</td>\n",
       "      <td>0</td>\n",
       "    </tr>\n",
       "    <tr>\n",
       "      <th>1163</th>\n",
       "      <td>1</td>\n",
       "      <td>68</td>\n",
       "      <td>1.0</td>\n",
       "      <td>0</td>\n",
       "      <td>0.0</td>\n",
       "      <td>0.0</td>\n",
       "      <td>0</td>\n",
       "      <td>0</td>\n",
       "      <td>0</td>\n",
       "      <td>239.0</td>\n",
       "      <td>130.0</td>\n",
       "      <td>80.0</td>\n",
       "      <td>23.25</td>\n",
       "      <td>64.0</td>\n",
       "      <td>95.0</td>\n",
       "      <td>0</td>\n",
       "    </tr>\n",
       "    <tr>\n",
       "      <th>4015</th>\n",
       "      <td>0</td>\n",
       "      <td>38</td>\n",
       "      <td>3.0</td>\n",
       "      <td>0</td>\n",
       "      <td>0.0</td>\n",
       "      <td>0.0</td>\n",
       "      <td>0</td>\n",
       "      <td>0</td>\n",
       "      <td>0</td>\n",
       "      <td>159.0</td>\n",
       "      <td>108.0</td>\n",
       "      <td>72.0</td>\n",
       "      <td>27.68</td>\n",
       "      <td>70.0</td>\n",
       "      <td>84.0</td>\n",
       "      <td>0</td>\n",
       "    </tr>\n",
       "  </tbody>\n",
       "</table>\n",
       "</div>"
      ],
      "text/plain": [
       "      male  age  education  currentSmoker  cigsPerDay  BPMeds  \\\n",
       "3497     1   50        1.0              0         0.0     0.0   \n",
       "1163     1   68        1.0              0         0.0     0.0   \n",
       "4015     0   38        3.0              0         0.0     0.0   \n",
       "\n",
       "      prevalentStroke  prevalentHyp  diabetes  totChol  sysBP  diaBP    BMI  \\\n",
       "3497                0             0         0    204.0  122.0   81.0  32.22   \n",
       "1163                0             0         0    239.0  130.0   80.0  23.25   \n",
       "4015                0             0         0    159.0  108.0   72.0  27.68   \n",
       "\n",
       "      heartRate  glucose  TenYearCHD  \n",
       "3497       63.0     73.0           0  \n",
       "1163       64.0     95.0           0  \n",
       "4015       70.0     84.0           0  "
      ]
     },
     "execution_count": 3,
     "metadata": {},
     "output_type": "execute_result"
    }
   ],
   "source": [
    "DataSet.sample(3)"
   ]
  },
  {
   "cell_type": "markdown",
   "metadata": {},
   "source": [
    "<p style=\"text-align: left;\"><span style=\"background-color: #d0d0d0;\"><span style=\"color: #ffff00;\"><strong> number of data in each column </span></strong></p>"
   ]
  },
  {
   "cell_type": "code",
   "execution_count": 4,
   "metadata": {},
   "outputs": [
    {
     "data": {
      "text/plain": [
       "male               4240\n",
       "age                4240\n",
       "education          4135\n",
       "currentSmoker      4240\n",
       "cigsPerDay         4211\n",
       "BPMeds             4187\n",
       "prevalentStroke    4240\n",
       "prevalentHyp       4240\n",
       "diabetes           4240\n",
       "totChol            4190\n",
       "sysBP              4240\n",
       "diaBP              4240\n",
       "BMI                4221\n",
       "heartRate          4239\n",
       "glucose            3852\n",
       "TenYearCHD         4240\n",
       "dtype: int64"
      ]
     },
     "execution_count": 4,
     "metadata": {},
     "output_type": "execute_result"
    }
   ],
   "source": [
    "DataSet.count()"
   ]
  },
  {
   "cell_type": "markdown",
   "metadata": {
    "collapsed": true
   },
   "source": [
    "<p style=\"text-align: left;\"><span style=\"background-color: #d0d0d0;\"><span style=\"color: #ffff00;\"><strong>data details</span></strong></p>\n"
   ]
  },
  {
   "cell_type": "markdown",
   "metadata": {},
   "source": [
    "<p style=\"direction: rtl; text-align: left;\"><strong>std : &nbsp;\n",
    "&nbsp;<em>Standard</em>&nbsp;deviation</strong></p>\n",
    "<p style=\"direction: rtl; text-align: left;\"><strong>mean :&nbsp; arithmetic&nbsp;<em>mean</em></strong>&nbsp;&nbsp;</p>\n",
    "<p style=\"direction: rtl; text-align: left;\"><strong>count : number of element </strong></p>"
   ]
  },
  {
   "cell_type": "code",
   "execution_count": 5,
   "metadata": {},
   "outputs": [
    {
     "data": {
      "text/html": [
       "<div>\n",
       "<style scoped>\n",
       "    .dataframe tbody tr th:only-of-type {\n",
       "        vertical-align: middle;\n",
       "    }\n",
       "\n",
       "    .dataframe tbody tr th {\n",
       "        vertical-align: top;\n",
       "    }\n",
       "\n",
       "    .dataframe thead th {\n",
       "        text-align: right;\n",
       "    }\n",
       "</style>\n",
       "<table border=\"1\" class=\"dataframe\">\n",
       "  <thead>\n",
       "    <tr style=\"text-align: right;\">\n",
       "      <th></th>\n",
       "      <th>male</th>\n",
       "      <th>age</th>\n",
       "      <th>education</th>\n",
       "      <th>currentSmoker</th>\n",
       "      <th>cigsPerDay</th>\n",
       "      <th>BPMeds</th>\n",
       "      <th>prevalentStroke</th>\n",
       "      <th>prevalentHyp</th>\n",
       "      <th>diabetes</th>\n",
       "      <th>totChol</th>\n",
       "      <th>sysBP</th>\n",
       "      <th>diaBP</th>\n",
       "      <th>BMI</th>\n",
       "      <th>heartRate</th>\n",
       "      <th>glucose</th>\n",
       "      <th>TenYearCHD</th>\n",
       "    </tr>\n",
       "  </thead>\n",
       "  <tbody>\n",
       "    <tr>\n",
       "      <th>count</th>\n",
       "      <td>4240.000000</td>\n",
       "      <td>4240.000000</td>\n",
       "      <td>4135.000000</td>\n",
       "      <td>4240.000000</td>\n",
       "      <td>4211.000000</td>\n",
       "      <td>4187.000000</td>\n",
       "      <td>4240.000000</td>\n",
       "      <td>4240.000000</td>\n",
       "      <td>4240.000000</td>\n",
       "      <td>4190.000000</td>\n",
       "      <td>4240.000000</td>\n",
       "      <td>4240.000000</td>\n",
       "      <td>4221.000000</td>\n",
       "      <td>4239.000000</td>\n",
       "      <td>3852.000000</td>\n",
       "      <td>4240.000000</td>\n",
       "    </tr>\n",
       "    <tr>\n",
       "      <th>mean</th>\n",
       "      <td>0.429245</td>\n",
       "      <td>49.580189</td>\n",
       "      <td>1.979444</td>\n",
       "      <td>0.494104</td>\n",
       "      <td>9.005937</td>\n",
       "      <td>0.029615</td>\n",
       "      <td>0.005896</td>\n",
       "      <td>0.310613</td>\n",
       "      <td>0.025708</td>\n",
       "      <td>236.699523</td>\n",
       "      <td>132.354599</td>\n",
       "      <td>82.897759</td>\n",
       "      <td>25.800801</td>\n",
       "      <td>75.878981</td>\n",
       "      <td>81.963655</td>\n",
       "      <td>0.151887</td>\n",
       "    </tr>\n",
       "    <tr>\n",
       "      <th>std</th>\n",
       "      <td>0.495027</td>\n",
       "      <td>8.572942</td>\n",
       "      <td>1.019791</td>\n",
       "      <td>0.500024</td>\n",
       "      <td>11.922462</td>\n",
       "      <td>0.169544</td>\n",
       "      <td>0.076569</td>\n",
       "      <td>0.462799</td>\n",
       "      <td>0.158280</td>\n",
       "      <td>44.591284</td>\n",
       "      <td>22.033300</td>\n",
       "      <td>11.910394</td>\n",
       "      <td>4.079840</td>\n",
       "      <td>12.025348</td>\n",
       "      <td>23.954335</td>\n",
       "      <td>0.358953</td>\n",
       "    </tr>\n",
       "    <tr>\n",
       "      <th>min</th>\n",
       "      <td>0.000000</td>\n",
       "      <td>32.000000</td>\n",
       "      <td>1.000000</td>\n",
       "      <td>0.000000</td>\n",
       "      <td>0.000000</td>\n",
       "      <td>0.000000</td>\n",
       "      <td>0.000000</td>\n",
       "      <td>0.000000</td>\n",
       "      <td>0.000000</td>\n",
       "      <td>107.000000</td>\n",
       "      <td>83.500000</td>\n",
       "      <td>48.000000</td>\n",
       "      <td>15.540000</td>\n",
       "      <td>44.000000</td>\n",
       "      <td>40.000000</td>\n",
       "      <td>0.000000</td>\n",
       "    </tr>\n",
       "    <tr>\n",
       "      <th>25%</th>\n",
       "      <td>0.000000</td>\n",
       "      <td>42.000000</td>\n",
       "      <td>1.000000</td>\n",
       "      <td>0.000000</td>\n",
       "      <td>0.000000</td>\n",
       "      <td>0.000000</td>\n",
       "      <td>0.000000</td>\n",
       "      <td>0.000000</td>\n",
       "      <td>0.000000</td>\n",
       "      <td>206.000000</td>\n",
       "      <td>117.000000</td>\n",
       "      <td>75.000000</td>\n",
       "      <td>23.070000</td>\n",
       "      <td>68.000000</td>\n",
       "      <td>71.000000</td>\n",
       "      <td>0.000000</td>\n",
       "    </tr>\n",
       "    <tr>\n",
       "      <th>50%</th>\n",
       "      <td>0.000000</td>\n",
       "      <td>49.000000</td>\n",
       "      <td>2.000000</td>\n",
       "      <td>0.000000</td>\n",
       "      <td>0.000000</td>\n",
       "      <td>0.000000</td>\n",
       "      <td>0.000000</td>\n",
       "      <td>0.000000</td>\n",
       "      <td>0.000000</td>\n",
       "      <td>234.000000</td>\n",
       "      <td>128.000000</td>\n",
       "      <td>82.000000</td>\n",
       "      <td>25.400000</td>\n",
       "      <td>75.000000</td>\n",
       "      <td>78.000000</td>\n",
       "      <td>0.000000</td>\n",
       "    </tr>\n",
       "    <tr>\n",
       "      <th>75%</th>\n",
       "      <td>1.000000</td>\n",
       "      <td>56.000000</td>\n",
       "      <td>3.000000</td>\n",
       "      <td>1.000000</td>\n",
       "      <td>20.000000</td>\n",
       "      <td>0.000000</td>\n",
       "      <td>0.000000</td>\n",
       "      <td>1.000000</td>\n",
       "      <td>0.000000</td>\n",
       "      <td>263.000000</td>\n",
       "      <td>144.000000</td>\n",
       "      <td>90.000000</td>\n",
       "      <td>28.040000</td>\n",
       "      <td>83.000000</td>\n",
       "      <td>87.000000</td>\n",
       "      <td>0.000000</td>\n",
       "    </tr>\n",
       "    <tr>\n",
       "      <th>max</th>\n",
       "      <td>1.000000</td>\n",
       "      <td>70.000000</td>\n",
       "      <td>4.000000</td>\n",
       "      <td>1.000000</td>\n",
       "      <td>70.000000</td>\n",
       "      <td>1.000000</td>\n",
       "      <td>1.000000</td>\n",
       "      <td>1.000000</td>\n",
       "      <td>1.000000</td>\n",
       "      <td>696.000000</td>\n",
       "      <td>295.000000</td>\n",
       "      <td>142.500000</td>\n",
       "      <td>56.800000</td>\n",
       "      <td>143.000000</td>\n",
       "      <td>394.000000</td>\n",
       "      <td>1.000000</td>\n",
       "    </tr>\n",
       "  </tbody>\n",
       "</table>\n",
       "</div>"
      ],
      "text/plain": [
       "              male          age    education  currentSmoker   cigsPerDay  \\\n",
       "count  4240.000000  4240.000000  4135.000000    4240.000000  4211.000000   \n",
       "mean      0.429245    49.580189     1.979444       0.494104     9.005937   \n",
       "std       0.495027     8.572942     1.019791       0.500024    11.922462   \n",
       "min       0.000000    32.000000     1.000000       0.000000     0.000000   \n",
       "25%       0.000000    42.000000     1.000000       0.000000     0.000000   \n",
       "50%       0.000000    49.000000     2.000000       0.000000     0.000000   \n",
       "75%       1.000000    56.000000     3.000000       1.000000    20.000000   \n",
       "max       1.000000    70.000000     4.000000       1.000000    70.000000   \n",
       "\n",
       "            BPMeds  prevalentStroke  prevalentHyp     diabetes      totChol  \\\n",
       "count  4187.000000      4240.000000   4240.000000  4240.000000  4190.000000   \n",
       "mean      0.029615         0.005896      0.310613     0.025708   236.699523   \n",
       "std       0.169544         0.076569      0.462799     0.158280    44.591284   \n",
       "min       0.000000         0.000000      0.000000     0.000000   107.000000   \n",
       "25%       0.000000         0.000000      0.000000     0.000000   206.000000   \n",
       "50%       0.000000         0.000000      0.000000     0.000000   234.000000   \n",
       "75%       0.000000         0.000000      1.000000     0.000000   263.000000   \n",
       "max       1.000000         1.000000      1.000000     1.000000   696.000000   \n",
       "\n",
       "             sysBP        diaBP          BMI    heartRate      glucose  \\\n",
       "count  4240.000000  4240.000000  4221.000000  4239.000000  3852.000000   \n",
       "mean    132.354599    82.897759    25.800801    75.878981    81.963655   \n",
       "std      22.033300    11.910394     4.079840    12.025348    23.954335   \n",
       "min      83.500000    48.000000    15.540000    44.000000    40.000000   \n",
       "25%     117.000000    75.000000    23.070000    68.000000    71.000000   \n",
       "50%     128.000000    82.000000    25.400000    75.000000    78.000000   \n",
       "75%     144.000000    90.000000    28.040000    83.000000    87.000000   \n",
       "max     295.000000   142.500000    56.800000   143.000000   394.000000   \n",
       "\n",
       "        TenYearCHD  \n",
       "count  4240.000000  \n",
       "mean      0.151887  \n",
       "std       0.358953  \n",
       "min       0.000000  \n",
       "25%       0.000000  \n",
       "50%       0.000000  \n",
       "75%       0.000000  \n",
       "max       1.000000  "
      ]
     },
     "execution_count": 5,
     "metadata": {},
     "output_type": "execute_result"
    }
   ],
   "source": [
    "DataSet.describe(include='all')"
   ]
  },
  {
   "cell_type": "markdown",
   "metadata": {},
   "source": [
    "<h3 style=\"direction: ltr;\"><span style=\"color: #666666 ;  text-align: left;\">Number of target value including in last column\n",
    " TenYearCHD</span></h3>\n",
    "<p style=\"direction: ltr; text-align: left; \"> 0 refers to  the number of pepole doesnot sufer from   heart attak disease in the last ten year</p></br>\n",
    "<p style=\"direction: ltr; text-align: left; \">1 refers to people whom sufer from heart attack disease in the last ten year \n",
    "</p>\n",
    "\n"
   ]
  },
  {
   "cell_type": "code",
   "execution_count": 6,
   "metadata": {},
   "outputs": [
    {
     "data": {
      "text/plain": [
       "0    3596\n",
       "1     644\n",
       "Name: TenYearCHD, dtype: int64"
      ]
     },
     "execution_count": 6,
     "metadata": {},
     "output_type": "execute_result"
    }
   ],
   "source": [
    "DataSet.TenYearCHD.value_counts()"
   ]
  },
  {
   "cell_type": "markdown",
   "metadata": {},
   "source": [
    "<h2 style=\"direction:ltr; text-align: left ;\"><span style=\"color: #666666 ;  text-align: left;\">order data and review </span></h2>\n"
   ]
  },
  {
   "cell_type": "markdown",
   "metadata": {},
   "source": [
    "<p style=\"direction: rtl; text-align: left;\"><span style=\"background-color: #d0d0d0;\"><span style=\"color: #ffff00;\"><strong>remove all data that exist incomplete information </strong></p>\n"
   ]
  },
  {
   "cell_type": "code",
   "execution_count": 7,
   "metadata": {},
   "outputs": [],
   "source": [
    "DataSet = DataSet.dropna()"
   ]
  },
  {
   "cell_type": "markdown",
   "metadata": {},
   "source": [
    "<p style=\"direction: rtl; text-align: left;\"><span style=\"background-color: #d0d0d0;\"><span style=\"color: #ffff00;\"><strong>now number of exist value become equal small colum </strong></p>\n"
   ]
  },
  {
   "cell_type": "code",
   "execution_count": 8,
   "metadata": {},
   "outputs": [
    {
     "data": {
      "text/plain": [
       "male               3658\n",
       "age                3658\n",
       "education          3658\n",
       "currentSmoker      3658\n",
       "cigsPerDay         3658\n",
       "BPMeds             3658\n",
       "prevalentStroke    3658\n",
       "prevalentHyp       3658\n",
       "diabetes           3658\n",
       "totChol            3658\n",
       "sysBP              3658\n",
       "diaBP              3658\n",
       "BMI                3658\n",
       "heartRate          3658\n",
       "glucose            3658\n",
       "TenYearCHD         3658\n",
       "dtype: int64"
      ]
     },
     "execution_count": 8,
     "metadata": {},
     "output_type": "execute_result"
    }
   ],
   "source": [
    "DataSet.count()"
   ]
  },
  {
   "cell_type": "markdown",
   "metadata": {},
   "source": [
    "<h4 style=\"direction: ltr; text-align: left ;\"><strong><span style=\"color: #666666 ;  text-align: left;\">study soctial state of samples </span></strong></h4>\n",
    "<h4 style=\"direction: ltr; text-align: left;\"><span style=\"color: #ffff00;\"><span style=\"background-color: #d0d0d0;\"> First: construct table to social information \n",
    ":&nbsp;</span></h4>"
   ]
  },
  {
   "cell_type": "code",
   "execution_count": 9,
   "metadata": {},
   "outputs": [],
   "source": [
    "social_data =DataSet.loc[:,:\"cigsPerDay\"]\n",
    "social_data['age_bin'] = pd.cut(DataSet['age'], [30, 40, 50,60,70], labels=['30 - 40', '40 - 50', '50 - 60','60-70'])\n",
    "cat_social_data = social_data.copy()\n",
    "cat_social_data['male'] = social_data['male'].replace({0: 'Female', 1: 'Male'})\n",
    "cat_social_data['education'] = social_data['education'].replace({1: 'high school', 2: 'high school diploma or GED',3: 'college or vocational school', 4: 'college degree.'})\n",
    "cat_social_data['currentSmoker'] = social_data['currentSmoker'].replace({0: 'smocker', 1: 'not smocker'})\n",
    "cat_social_data.rename(columns={'male': 'gender'}, inplace=True)\n"
   ]
  },
  {
   "cell_type": "markdown",
   "metadata": {},
   "source": [
    "<p style=\"direction: rtl; text-align: left;\"><span style=\"background-color: #d0d0d0;\"><span style=\"color: #ffff00;\"><strong>Sample </strong></p>\n"
   ]
  },
  {
   "cell_type": "code",
   "execution_count": 10,
   "metadata": {},
   "outputs": [
    {
     "data": {
      "text/html": [
       "<div>\n",
       "<style scoped>\n",
       "    .dataframe tbody tr th:only-of-type {\n",
       "        vertical-align: middle;\n",
       "    }\n",
       "\n",
       "    .dataframe tbody tr th {\n",
       "        vertical-align: top;\n",
       "    }\n",
       "\n",
       "    .dataframe thead th {\n",
       "        text-align: right;\n",
       "    }\n",
       "</style>\n",
       "<table border=\"1\" class=\"dataframe\">\n",
       "  <thead>\n",
       "    <tr style=\"text-align: right;\">\n",
       "      <th></th>\n",
       "      <th>gender</th>\n",
       "      <th>age</th>\n",
       "      <th>education</th>\n",
       "      <th>currentSmoker</th>\n",
       "      <th>cigsPerDay</th>\n",
       "      <th>age_bin</th>\n",
       "    </tr>\n",
       "  </thead>\n",
       "  <tbody>\n",
       "    <tr>\n",
       "      <th>1728</th>\n",
       "      <td>Female</td>\n",
       "      <td>46</td>\n",
       "      <td>high school</td>\n",
       "      <td>smocker</td>\n",
       "      <td>0.0</td>\n",
       "      <td>40 - 50</td>\n",
       "    </tr>\n",
       "    <tr>\n",
       "      <th>1370</th>\n",
       "      <td>Male</td>\n",
       "      <td>45</td>\n",
       "      <td>high school diploma or GED</td>\n",
       "      <td>not smocker</td>\n",
       "      <td>20.0</td>\n",
       "      <td>40 - 50</td>\n",
       "    </tr>\n",
       "    <tr>\n",
       "      <th>3181</th>\n",
       "      <td>Male</td>\n",
       "      <td>45</td>\n",
       "      <td>college degree.</td>\n",
       "      <td>not smocker</td>\n",
       "      <td>20.0</td>\n",
       "      <td>40 - 50</td>\n",
       "    </tr>\n",
       "    <tr>\n",
       "      <th>1051</th>\n",
       "      <td>Male</td>\n",
       "      <td>53</td>\n",
       "      <td>high school diploma or GED</td>\n",
       "      <td>not smocker</td>\n",
       "      <td>20.0</td>\n",
       "      <td>50 - 60</td>\n",
       "    </tr>\n",
       "    <tr>\n",
       "      <th>3586</th>\n",
       "      <td>Male</td>\n",
       "      <td>63</td>\n",
       "      <td>high school</td>\n",
       "      <td>not smocker</td>\n",
       "      <td>15.0</td>\n",
       "      <td>60-70</td>\n",
       "    </tr>\n",
       "  </tbody>\n",
       "</table>\n",
       "</div>"
      ],
      "text/plain": [
       "      gender  age                   education currentSmoker  cigsPerDay  \\\n",
       "1728  Female   46                 high school       smocker         0.0   \n",
       "1370    Male   45  high school diploma or GED   not smocker        20.0   \n",
       "3181    Male   45             college degree.   not smocker        20.0   \n",
       "1051    Male   53  high school diploma or GED   not smocker        20.0   \n",
       "3586    Male   63                 high school   not smocker        15.0   \n",
       "\n",
       "      age_bin  \n",
       "1728  40 - 50  \n",
       "1370  40 - 50  \n",
       "3181  40 - 50  \n",
       "1051  50 - 60  \n",
       "3586    60-70  "
      ]
     },
     "execution_count": 10,
     "metadata": {},
     "output_type": "execute_result"
    }
   ],
   "source": [
    "cat_social_data.sample(5)"
   ]
  },
  {
   "cell_type": "markdown",
   "metadata": {},
   "source": [
    "<h2 id=\"تحليل-الإرتباط-بين-بيانات-العينات\"  style=\"direction: ltr; text-align: left; \"><span style=\"background-color: #d0d0d0;\"><span style=\"color: #c80000;\">analysis the association between samples data :\n",
    "</span></h2>\n",
    "<p style=\"direction: ltr; text-align: left;\">\n",
    "analysis the association mean the study between two variables , the basic topic for this is to determine the relationship between that's variables , from 0 (no correlation ) to 1 that is (perfect correlation.</p>\n",
    "<p style=\"direction: ltr; text-align: left;\"><a href=\"https://ar.wikipedia.org/wiki/%D9%85%D8%B9%D8%A7%D9%85%D9%84_%D8%B3%D8%A8%D9%8A%D8%B1%D9%85%D8%A7%D9%86_%D9%84%D9%84%D8%A7%D8%B1%D8%AA%D8%A8%D8%A7%D8%B7\" target=\"_blank\" rel=\"noopener\">more information &nbsp;</a></p>"
   ]
  },
  {
   "cell_type": "code",
   "execution_count": 11,
   "metadata": {},
   "outputs": [
    {
     "data": {
      "text/plain": [
       "<matplotlib.axes._subplots.AxesSubplot at 0xb314f60>"
      ]
     },
     "execution_count": 11,
     "metadata": {},
     "output_type": "execute_result"
    },
    {
     "data": {
      "image/png": "[encoded data removed]",
      "text/plain": [
       "<matplotlib.figure.Figure at 0xb0f70b8>"
      ]
     },
     "metadata": {},
     "output_type": "display_data"
    }
   ],
   "source": [
    "\n",
    "#sns.stripplot(data=social_data, y='age', x='education')\n",
    "sns.heatmap(social_data.corr(), annot=True, fmt=\".2f\")"
   ]
  },
  {
   "cell_type": "markdown",
   "metadata": {},
   "source": [
    "<p style=\"direction: rtl; text-align: left;\"><span style=\"background-color: #d0d0d0;\"><span style=\"color: #ffff00;\"><strong>Distribute study level by age  </strong></p>\n"
   ]
  },
  {
   "cell_type": "code",
   "execution_count": 12,
   "metadata": {},
   "outputs": [
    {
     "data": {
      "text/plain": [
       "<matplotlib.axes._subplots.AxesSubplot at 0xb1785f8>"
      ]
     },
     "execution_count": 12,
     "metadata": {},
     "output_type": "execute_result"
    },
    {
     "data": {
      "image/png": "[encoded data removed]",
      "text/plain": [
       "<matplotlib.figure.Figure at 0xb04afd0>"
      ]
     },
     "metadata": {},
     "output_type": "display_data"
    }
   ],
   "source": [
    "sns.set(rc={'figure.figsize':(10.7,8.27)})\n",
    "\n",
    "#sns.set_style(\"whitegrid\")\n",
    "sns.set_palette(\"Set1\")\n",
    "\n",
    "\n",
    "sns.swarmplot(data=cat_social_data, y='age', x='education',hue=cat_social_data.gender)"
   ]
  },
  {
   "cell_type": "markdown",
   "metadata": {},
   "source": [
    "<p style=\"direction: rtl; text-align: left;\"><span style=\"background-color: #d0d0d0;\"><span style=\"color: #ffff00;\"><strong>Behavior smoke for gender </strong></p>\n"
   ]
  },
  {
   "cell_type": "code",
   "execution_count": 13,
   "metadata": {},
   "outputs": [
    {
     "data": {
      "text/plain": [
       "<matplotlib.axes._subplots.AxesSubplot at 0xb210978>"
      ]
     },
     "execution_count": 13,
     "metadata": {},
     "output_type": "execute_result"
    },
    {
     "data": {
      "image/png": "[encoded data removed]",
      "text/plain": [
       "<matplotlib.figure.Figure at 0xb1a82e8>"
      ]
     },
     "metadata": {},
     "output_type": "display_data"
    }
   ],
   "source": [
    "sns.set(rc={'figure.figsize':(10.7,8.27)})\n",
    "sns.countplot( cat_social_data.currentSmoker,hue=cat_social_data.gender)"
   ]
  },
  {
   "cell_type": "markdown",
   "metadata": {},
   "source": [
    "<p style=\"direction: rtl; text-align: left;\"><span style=\"background-color: #d0d0d0;\"><span style=\"color: #ffff00;\"><strong>number of cigarettes by age levels  </strong></p>\n"
   ]
  },
  {
   "cell_type": "code",
   "execution_count": 14,
   "metadata": {},
   "outputs": [
    {
     "data": {
      "image/png": "[encoded data removed]",
      "text/plain": [
       "<matplotlib.figure.Figure at 0xb1947b8>"
      ]
     },
     "metadata": {},
     "output_type": "display_data"
    }
   ],
   "source": [
    "sns.jointplot(y=DataSet.cigsPerDay[(DataSet.cigsPerDay >0)] , x='age', data=DataSet, kind=\"reg\", size=8);"
   ]
  },
  {
   "cell_type": "markdown",
   "metadata": {
    "collapsed": true
   },
   "source": [
    "<p style=\"direction: rtl; text-align: left;\"><span style=\"background-color: #d0d0d0;\"><span style=\"color: #ffff00;\"><strong>study level for gender  </strong></p>\n"
   ]
  },
  {
   "cell_type": "code",
   "execution_count": 15,
   "metadata": {},
   "outputs": [
    {
     "data": {
      "text/plain": [
       "<matplotlib.axes._subplots.AxesSubplot at 0xb769be0>"
      ]
     },
     "execution_count": 15,
     "metadata": {},
     "output_type": "execute_result"
    },
    {
     "data": {
      "image/png": "[encoded data removed]",
      "text/plain": [
       "<matplotlib.figure.Figure at 0xb1949e8>"
      ]
     },
     "metadata": {},
     "output_type": "display_data"
    }
   ],
   "source": [
    "#sns.swarmplot(data=social_data, x='education', y='currentSmoker')\n",
    "sns.countplot( cat_social_data.education,hue=cat_social_data.gender)"
   ]
  },
  {
   "cell_type": "markdown",
   "metadata": {
    "collapsed": true
   },
   "source": [
    "<h4 style=\"direction: ltr; text-align: left ;\"><strong><span style=\"color: #666666 ;  text-align: left;\"> study indexes related to heart health:\n",
    " </span></strong></h4>\n",
    "<h4 style=\"direction: ltr; text-align: left;\"><span style=\"color: #ffff00;\"><span style=\"background-color: #d0d0d0;\"> first: construct data for health indexes\n",
    ":&nbsp;</span></h4>"
   ]
  },
  {
   "cell_type": "code",
   "execution_count": 16,
   "metadata": {},
   "outputs": [],
   "source": [
    "med_data =DataSet.loc[:,\"prevalentStroke\":\"TenYearCHD\"]"
   ]
  },
  {
   "cell_type": "markdown",
   "metadata": {
    "collapsed": true
   },
   "source": [
    "<p style=\"direction: rtl; text-align: left;\"><span style=\"background-color: #d0d0d0;\"><span style=\"color: #ffff00;\"><strong>Sample </strong></p>\n"
   ]
  },
  {
   "cell_type": "code",
   "execution_count": 17,
   "metadata": {},
   "outputs": [
    {
     "data": {
      "text/html": [
       "<div>\n",
       "<style scoped>\n",
       "    .dataframe tbody tr th:only-of-type {\n",
       "        vertical-align: middle;\n",
       "    }\n",
       "\n",
       "    .dataframe tbody tr th {\n",
       "        vertical-align: top;\n",
       "    }\n",
       "\n",
       "    .dataframe thead th {\n",
       "        text-align: right;\n",
       "    }\n",
       "</style>\n",
       "<table border=\"1\" class=\"dataframe\">\n",
       "  <thead>\n",
       "    <tr style=\"text-align: right;\">\n",
       "      <th></th>\n",
       "      <th>prevalentStroke</th>\n",
       "      <th>prevalentHyp</th>\n",
       "      <th>diabetes</th>\n",
       "      <th>totChol</th>\n",
       "      <th>sysBP</th>\n",
       "      <th>diaBP</th>\n",
       "      <th>BMI</th>\n",
       "      <th>heartRate</th>\n",
       "      <th>glucose</th>\n",
       "      <th>TenYearCHD</th>\n",
       "    </tr>\n",
       "  </thead>\n",
       "  <tbody>\n",
       "    <tr>\n",
       "      <th>2860</th>\n",
       "      <td>0</td>\n",
       "      <td>0</td>\n",
       "      <td>0</td>\n",
       "      <td>205.0</td>\n",
       "      <td>106.0</td>\n",
       "      <td>75.0</td>\n",
       "      <td>23.44</td>\n",
       "      <td>75.0</td>\n",
       "      <td>97.0</td>\n",
       "      <td>0</td>\n",
       "    </tr>\n",
       "    <tr>\n",
       "      <th>493</th>\n",
       "      <td>0</td>\n",
       "      <td>1</td>\n",
       "      <td>0</td>\n",
       "      <td>258.0</td>\n",
       "      <td>135.0</td>\n",
       "      <td>93.0</td>\n",
       "      <td>31.69</td>\n",
       "      <td>75.0</td>\n",
       "      <td>57.0</td>\n",
       "      <td>0</td>\n",
       "    </tr>\n",
       "    <tr>\n",
       "      <th>784</th>\n",
       "      <td>0</td>\n",
       "      <td>0</td>\n",
       "      <td>0</td>\n",
       "      <td>199.0</td>\n",
       "      <td>137.0</td>\n",
       "      <td>81.0</td>\n",
       "      <td>21.85</td>\n",
       "      <td>70.0</td>\n",
       "      <td>72.0</td>\n",
       "      <td>1</td>\n",
       "    </tr>\n",
       "    <tr>\n",
       "      <th>63</th>\n",
       "      <td>0</td>\n",
       "      <td>0</td>\n",
       "      <td>0</td>\n",
       "      <td>235.0</td>\n",
       "      <td>126.5</td>\n",
       "      <td>80.0</td>\n",
       "      <td>24.88</td>\n",
       "      <td>83.0</td>\n",
       "      <td>72.0</td>\n",
       "      <td>0</td>\n",
       "    </tr>\n",
       "  </tbody>\n",
       "</table>\n",
       "</div>"
      ],
      "text/plain": [
       "      prevalentStroke  prevalentHyp  diabetes  totChol  sysBP  diaBP    BMI  \\\n",
       "2860                0             0         0    205.0  106.0   75.0  23.44   \n",
       "493                 0             1         0    258.0  135.0   93.0  31.69   \n",
       "784                 0             0         0    199.0  137.0   81.0  21.85   \n",
       "63                  0             0         0    235.0  126.5   80.0  24.88   \n",
       "\n",
       "      heartRate  glucose  TenYearCHD  \n",
       "2860       75.0     97.0           0  \n",
       "493        75.0     57.0           0  \n",
       "784        70.0     72.0           1  \n",
       "63         83.0     72.0           0  "
      ]
     },
     "execution_count": 17,
     "metadata": {},
     "output_type": "execute_result"
    }
   ],
   "source": [
    "med_data.sample(4)"
   ]
  },
  {
   "cell_type": "markdown",
   "metadata": {},
   "source": [
    "<p style=\"direction: rtl; text-align: left;\"><span style=\"background-color: #d0d0d0;\"><span style=\"color: #ffff00;\"><strong>Analysis the association between Medical data\n",
    "  </strong></p>\n"
   ]
  },
  {
   "cell_type": "code",
   "execution_count": 18,
   "metadata": {},
   "outputs": [
    {
     "data": {
      "text/plain": [
       "<matplotlib.axes._subplots.AxesSubplot at 0xba86320>"
      ]
     },
     "execution_count": 18,
     "metadata": {},
     "output_type": "execute_result"
    },
    {
     "data": {
      "image/png": "[encoded data removed]",
      "text/plain": [
       "<matplotlib.figure.Figure at 0xb849198>"
      ]
     },
     "metadata": {},
     "output_type": "display_data"
    }
   ],
   "source": [
    "\n",
    "\n",
    "\n",
    "\n",
    "sns.heatmap(med_data.corr(), annot=True, fmt=\".2f\")"
   ]
  },
  {
   "cell_type": "markdown",
   "metadata": {},
   "source": [
    "<p style=\"direction: rtl; text-align: left;\"><span style=\"background-color: #d0d0d0;\"><span style=\"color: #ffff00;\"><strong> Age distributed for patient that was injured heart disease cornary in last ten year   </strong></p>\n"
   ]
  },
  {
   "cell_type": "code",
   "execution_count": 19,
   "metadata": {},
   "outputs": [
    {
     "data": {
      "text/plain": [
       "<matplotlib.axes._subplots.AxesSubplot at 0xbdeab70>"
      ]
     },
     "execution_count": 19,
     "metadata": {},
     "output_type": "execute_result"
    },
    {
     "data": {
      "image/png": "[encoded data removed]",
      "text/plain": [
       "<matplotlib.figure.Figure at 0xb48a828>"
      ]
     },
     "metadata": {},
     "output_type": "display_data"
    }
   ],
   "source": [
    "sns.swarmplot(x=DataSet.TenYearCHD[(DataSet.TenYearCHD == 1 )] , y=DataSet.age[(DataSet.TenYearCHD == 1 )],hue=DataSet.male[(DataSet.TenYearCHD == 1 )], data=DataSet )"
   ]
  },
  {
   "cell_type": "markdown",
   "metadata": {},
   "source": [
    "<p style=\"direction: rtl; text-align: left;\"><span style=\"background-color: #d0d0d0;\"><span style=\"color: #ffff00;\"><strong> Age distributed for diabetes patients.\n",
    " </strong></p>\n"
   ]
  },
  {
   "cell_type": "code",
   "execution_count": 20,
   "metadata": {},
   "outputs": [
    {
     "data": {
      "text/plain": [
       "<matplotlib.axes._subplots.AxesSubplot at 0xd2d1da0>"
      ]
     },
     "execution_count": 20,
     "metadata": {},
     "output_type": "execute_result"
    },
    {
     "data": {
      "image/png": "[encoded data removed]",
      "text/plain": [
       "<matplotlib.figure.Figure at 0xd2c1e48>"
      ]
     },
     "metadata": {},
     "output_type": "display_data"
    }
   ],
   "source": [
    "sns.set(rc={'figure.figsize':(10.7,8.27)})\n",
    "\n",
    "#sns.set_style(\"whitegrid\")\n",
    "sns.set_palette(\"icefire\")\n",
    "sns.swarmplot(x=DataSet.diabetes[(DataSet.diabetes == 1 )] , y=DataSet.age[(DataSet.diabetes == 1 )],hue=DataSet.currentSmoker[(DataSet.diabetes == 1 )], data=DataSet )"
   ]
  },
  {
   "cell_type": "markdown",
   "metadata": {},
   "source": [
    "<p style=\"direction: rtl; text-align: left;\"><span style=\"background-color: #d0d0d0;\"><span style=\"color: #ffff00;\"><strong>Heart disease cornary for genders\n",
    "    </strong></p>\n"
   ]
  },
  {
   "cell_type": "code",
   "execution_count": 21,
   "metadata": {},
   "outputs": [
    {
     "data": {
      "text/plain": [
       "<seaborn.axisgrid.FacetGrid at 0xbad8e80>"
      ]
     },
     "execution_count": 21,
     "metadata": {},
     "output_type": "execute_result"
    },
    {
     "data": {
      "image/png": "[encoded data removed]",
      "text/plain": [
       "<matplotlib.figure.Figure at 0xd2df080>"
      ]
     },
     "metadata": {},
     "output_type": "display_data"
    }
   ],
   "source": [
    "sns.factorplot(x='male', col='TenYearCHD', kind='count', data=DataSet)"
   ]
  },
  {
   "cell_type": "markdown",
   "metadata": {},
   "source": [
    "<p style=\"direction: rtl; text-align: left;\"><span style=\"background-color: #ffff00;\"><span style=\"color: #d0d0d0;\"><strong>   Avoide to prolongation on the review of data limit ourselves to this we go to machine learning  </strong></p>\n"
   ]
  },
  {
   "cell_type": "markdown",
   "metadata": {
    "collapsed": true
   },
   "source": [
    "<p>&nbsp;</p>\n",
    "<h1 style=\"direction: rtl; text-align: center;\"><span style=\"color: #c80000;\"><span style=\"background-color: #d0d0d0;\">&nbsp;classification and machine learning algorithm\n",
    "</span></h1>\n",
    "\n",
    "\n",
    "\n",
    "<p>&nbsp;</p>\n",
    "<h2 style=\"direction: ltr;\"><span style=\"color: #666666 ;  text-align: center;\">Decision Tree Classifier\n",
    "</span></h2>"
   ]
  },
  {
   "cell_type": "markdown",
   "metadata": {
    "collapsed": true
   },
   "source": [
    "<p style=\"direction: ltr; text-align: left;\"> decision tree is the non-supervision learning way,it Used to classification and regression ,the objective from it make model to prediction value of variable goal bu learning rules of simple decision to extracted from features,we apply classification process by set of rules or conditional that determine path start root and ends of final root that represents symbol to classified thing and at all infinite node must be\n",
    " mack decision about path to next node.\n",
    " </p>\n",
    "<p style=\"direction: ltr; text-align: left ;\"><a href=\"https://www.syr-res.com/article/11866.html\"> soures </a></p>"
   ]
  },
  {
   "cell_type": "markdown",
   "metadata": {
    "collapsed": true
   },
   "source": [
    "\n",
    "<h2 style=\"direction: ltr;\"><span style=\"color: #666666 ;  text-align: center;\">first: model prediction the probability of diabetes \n",
    "</span></h2>\n",
    "\n",
    "<p style=\"direction: rtl; text-align: left;\"><span style=\"background-color: #d0d0d0;\"><span style=\"color: #ffff00;\"><strong>Preparation of data\n",
    "   </strong></p>\n",
    "\n",
    "<p style=\"direction: ltr; text-align: left;\"> \n",
    "will be separated and division of data to the matrix'x' which will contain data features that will be used for training, and the matrix'y' only contain the column values'diabetes' any target, this means that the x will contain features every person and y is a matrix of a single column and each row in the y will contain the value of either 1 if the person may injured diabetes or 0 If you do not hurt. algorithm half- life will compare values\n",
    " or advantages of each row in the group x with the value of the corresponding in the matrix y to find out certain patterns for the reasons which can be affected in the injured person diabetes\n",
    " </p>\n",
    "\n"
   ]
  },
  {
   "cell_type": "code",
   "execution_count": 22,
   "metadata": {},
   "outputs": [],
   "source": [
    "x = DataSet[['male','age','cigsPerDay','BMI','glucose','totChol']].values\n",
    "y = DataSet['diabetes'].values"
   ]
  },
  {
   "cell_type": "markdown",
   "metadata": {},
   "source": [
    "\n",
    "<p style=\"direction: rtl; text-align: left;\"><span style=\"background-color: #d0d0d0;\"><span style=\"color: #ffff00;\"><strong> properties that used in X\n",
    "   </strong></p>\n",
    "\n",
    "<p style=\"direction: ltr; text-align: left;\"><span style=\"background-color: #ffff99;\">'male' , 'age' , 'cigsPerDay' , 'BMI' , 'glucose' , 'totChol'</span></p>\n",
    "\n"
   ]
  },
  {
   "cell_type": "markdown",
   "metadata": {
    "collapsed": true
   },
   "source": [
    "\n",
    "<p style=\"direction: rtl; text-align: left;\"><span style=\"background-color: #d0d0d0;\"><span style=\"color: #ffff00;\"><strong> training and testing data\n",
    "   </strong></p>\n",
    "\n",
    "<p style=\"direction: ltr; text-align: left;\">\n",
    "will divide each of the matrix x and y to the data for Training and data test. We will use 80% of the matrix'x' and the matrix'y' training and 20% will be used to test.\n",
    "</p>\n",
    "\n"
   ]
  },
  {
   "cell_type": "code",
   "execution_count": 23,
   "metadata": {},
   "outputs": [],
   "source": [
    "x_train, x_test,y_train,y_test=train_test_split(x,y,test_size=0.2)"
   ]
  },
  {
   "cell_type": "markdown",
   "metadata": {
    "collapsed": true
   },
   "source": [
    "\n",
    "<p style=\"direction: rtl; text-align: left;\"><span style=\"background-color: #d0d0d0;\"><span style=\"color: #ffff00;\"><strong> Decision Tree Classifier\n",
    "   </strong></p>\n",
    "\n",
    "<p style=\"direction: ltr; text-align: left;\">\n",
    "specifying the maximum depth of possible branches of the tree in the 10.\n",
    "\n",
    "</p>\n",
    "\n"
   ]
  },
  {
   "cell_type": "code",
   "execution_count": 24,
   "metadata": {},
   "outputs": [],
   "source": [
    "D3 =tree.DecisionTreeClassifier(max_depth=10)"
   ]
  },
  {
   "cell_type": "markdown",
   "metadata": {
    "collapsed": true
   },
   "source": [
    "\n",
    "<p style=\"direction: rtl; text-align: left;\"><span style=\"background-color: #d0d0d0;\"><span style=\"color: #ffff00;\"><strong> feed model decision tree by training data\n",
    "   </strong></p>\n",
    "\n",
    "<p style=\"direction: ltr; text-align: left;\">\n",
    "\n",
    "This is process called  \" training \"\n",
    "</p>\n",
    "\n"
   ]
  },
  {
   "cell_type": "code",
   "execution_count": 25,
   "metadata": {},
   "outputs": [
    {
     "data": {
      "text/plain": [
       "DecisionTreeClassifier(class_weight=None, criterion='gini', max_depth=10,\n",
       "            max_features=None, max_leaf_nodes=None,\n",
       "            min_impurity_decrease=0.0, min_impurity_split=None,\n",
       "            min_samples_leaf=1, min_samples_split=2,\n",
       "            min_weight_fraction_leaf=0.0, presort=False, random_state=None,\n",
       "            splitter='best')"
      ]
     },
     "execution_count": 25,
     "metadata": {},
     "output_type": "execute_result"
    }
   ],
   "source": [
    "D3.fit(x_train,y_train)"
   ]
  },
  {
   "cell_type": "markdown",
   "metadata": {
    "collapsed": true
   },
   "source": [
    "\n",
    "<p style=\"direction: rtl; text-align: left;\"><span style=\"background-color: #d0d0d0;\"><span style=\"color: #ffff00;\"><strong> \n",
    "test the effectiveness of Model\n",
    "\n",
    "   </strong></p>\n",
    "\n",
    "<p style=\"direction: ltr; text-align: left;\">\n",
    "\n",
    "decision tree ready, it will be we can test their effectiveness'score' using the training data and testing to know its accuracy.\n",
    "\n",
    "</p>\n",
    "\n"
   ]
  },
  {
   "cell_type": "code",
   "execution_count": 26,
   "metadata": {},
   "outputs": [
    {
     "name": "stdout",
     "output_type": "stream",
     "text": [
      "98.77049180327869 %\n"
     ]
    }
   ],
   "source": [
    "print(D3.score (x_test, y_test)*100,\"%\")"
   ]
  },
  {
   "cell_type": "markdown",
   "metadata": {},
   "source": [
    "\n",
    "\n",
    "\n",
    "<p style=\"direction: ltr; text-align: left;\"><span style=\"background-color: #ffff99;\">\n",
    "Results showed that decision tree succeeded in expectation% 98 of the data set the stomach test properly, which means that their quality high</span></p>\n",
    "\n"
   ]
  },
  {
   "cell_type": "markdown",
   "metadata": {
    "collapsed": true
   },
   "source": [
    "<h2   style=\"direction: ltr; text-align: left; \"><span style=\"background-color: #d0d0d0;\"><span style=\"color: #c80000;\"> use the Model to predict the diabetes \n",
    "</span></h2>\n",
    "<p style=\"direction: ltr; text-align: left;\">we will enter data for new person to predict his diabetes\n",
    "</p>\n"
   ]
  },
  {
   "cell_type": "code",
   "execution_count": 27,
   "metadata": {},
   "outputs": [],
   "source": [
    "male = 1\n",
    "age =35\n",
    "cigsPerDay =40\n",
    "BMI =35\n",
    "glucose =110\n",
    "totChol =120"
   ]
  },
  {
   "cell_type": "markdown",
   "metadata": {
    "collapsed": true
   },
   "source": [
    "\n",
    "\n",
    "\n",
    "<p style=\"direction: ltr; text-align: left;\"><span style=\"background-color: #ffff99;\">\n",
    "prediction result\n",
    "</span></p>\n",
    "\n"
   ]
  },
  {
   "cell_type": "code",
   "execution_count": 28,
   "metadata": {},
   "outputs": [
    {
     "name": "stdout",
     "output_type": "stream",
     "text": [
      "[1]\n"
     ]
    }
   ],
   "source": [
    "D3.fit(x,y)\n",
    "print ( D3.predict( [[ male ,age ,cigsPerDay ,BMI ,glucose ,totChol ]] ))"
   ]
  },
  {
   "cell_type": "markdown",
   "metadata": {
    "collapsed": true
   },
   "source": [
    "\n",
    "\n",
    "\n",
    "<p style=\"direction: ltr; text-align: left;\"><span style=\"background-color: #ffff99;\">\n",
    "\n",
    "from the person' s information' s New been expected to his diabetes, decision tree is due value[ 1] in the case of diabetes and returns the value[ 0] in the case of non- injury\n",
    "\n",
    "</span></p>\n",
    "\n"
   ]
  },
  {
   "cell_type": "markdown",
   "metadata": {
    "collapsed": true
   },
   "source": [
    "<p style=\"direction: rtl; text-align: left;\"><span style=\"background-color: #d0d0d0;\"><span style=\"color: #ffff00;\"><strong>  add anthor persone to make sure  form works \n",
    "   </strong></p>\n"
   ]
  },
  {
   "cell_type": "code",
   "execution_count": 29,
   "metadata": {},
   "outputs": [],
   "source": [
    "male = 0\n",
    "age =45\n",
    "cigsPerDay =5\n",
    "BMI =25\n",
    "glucose =110\n",
    "totChol =250"
   ]
  },
  {
   "cell_type": "code",
   "execution_count": 30,
   "metadata": {},
   "outputs": [
    {
     "name": "stdout",
     "output_type": "stream",
     "text": [
      "[0]\n"
     ]
    }
   ],
   "source": [
    "D3.fit(x,y)\n",
    "print ( D3.predict( [[ male ,age ,cigsPerDay ,BMI ,glucose ,totChol ]] ))"
   ]
  },
  {
   "cell_type": "markdown",
   "metadata": {
    "collapsed": true
   },
   "source": [
    "\n",
    "\n",
    "\n",
    "<p style=\"direction: ltr; text-align: left;\"><span style=\"background-color: #ffff99;\">\n",
    "\n",
    "seeing as the result is the [0] Unlike the person former, here was not expected injury new person diabetes \n",
    "\n",
    "</span></p>\n",
    "\n"
   ]
  },
  {
   "cell_type": "markdown",
   "metadata": {
    "collapsed": true
   },
   "source": [
    "\n",
    "<h2 style=\"direction: ltr;\"><span style=\"color: #666666 ;  text-align: center;\">\n",
    "Second: The model predicted heart disease Coronary\n",
    "\n",
    "\n",
    "</span></h2>\n",
    "\n",
    "<p style=\"direction: rtl; text-align: left;\"><span style=\"background-color: #d0d0d0;\"><span style=\"color: #ffff00;\"><strong>Preparation of data\n",
    "   </strong></p>\n",
    "\n",
    "<p style=\"direction: ltr; text-align: left;\"> \n",
    "we will repeat the previous steps our form expected to diabetes with the change the target to TenYearCHD\n",
    "\n",
    " </p>\n",
    "\n"
   ]
  },
  {
   "cell_type": "code",
   "execution_count": 31,
   "metadata": {},
   "outputs": [],
   "source": [
    "x = DataSet[['male','age','cigsPerDay','BMI','glucose','totChol','diabetes']].values\n",
    "y = DataSet['TenYearCHD'].values"
   ]
  },
  {
   "cell_type": "code",
   "execution_count": 32,
   "metadata": {},
   "outputs": [],
   "source": [
    "x_train, x_test,y_train,y_test=train_test_split(x,y,test_size=0.2,random_state = 30)"
   ]
  },
  {
   "cell_type": "markdown",
   "metadata": {
    "collapsed": true
   },
   "source": [
    "<p style=\"direction: rtl; text-align: left;\"><span style=\"background-color: #d0d0d0;\"><span style=\"color: #ffff00;\"><strong>Decision Tree Classifier  </strong></p>\n"
   ]
  },
  {
   "cell_type": "code",
   "execution_count": 33,
   "metadata": {},
   "outputs": [],
   "source": [
    "D3 =tree.DecisionTreeClassifier(max_depth=10)"
   ]
  },
  {
   "cell_type": "markdown",
   "metadata": {
    "collapsed": true
   },
   "source": [
    "\n",
    "<p style=\"direction: rtl; text-align: left;\"><span style=\"background-color: #d0d0d0;\"><span style=\"color: #ffff00;\"><strong> feed model decision tree by training data\n",
    "   </strong></p>\n",
    "\n",
    "<p style=\"direction: ltr; text-align: left;\">\n",
    "\n",
    "This is process called  \" training \"\n",
    "</p>\n",
    "\n"
   ]
  },
  {
   "cell_type": "code",
   "execution_count": 34,
   "metadata": {},
   "outputs": [
    {
     "data": {
      "text/plain": [
       "DecisionTreeClassifier(class_weight=None, criterion='gini', max_depth=10,\n",
       "            max_features=None, max_leaf_nodes=None,\n",
       "            min_impurity_decrease=0.0, min_impurity_split=None,\n",
       "            min_samples_leaf=1, min_samples_split=2,\n",
       "            min_weight_fraction_leaf=0.0, presort=False, random_state=None,\n",
       "            splitter='best')"
      ]
     },
     "execution_count": 34,
     "metadata": {},
     "output_type": "execute_result"
    }
   ],
   "source": [
    "D3.fit(x_train,y_train)"
   ]
  },
  {
   "cell_type": "markdown",
   "metadata": {
    "collapsed": true
   },
   "source": [
    "\n",
    "<p style=\"direction: rtl; text-align: left;\"><span style=\"background-color: #d0d0d0;\"><span style=\"color: #ffff00;\"><strong> \n",
    "test the effectiveness of Model\n",
    "\n",
    "   </strong></p>\n",
    "\n"
   ]
  },
  {
   "cell_type": "code",
   "execution_count": 35,
   "metadata": {},
   "outputs": [
    {
     "name": "stdout",
     "output_type": "stream",
     "text": [
      "83.19672131147541 %\n"
     ]
    }
   ],
   "source": [
    "print(D3.score (x_test, y_test)*100,\"%\")"
   ]
  },
  {
   "cell_type": "markdown",
   "metadata": {},
   "source": [
    "\n",
    "\n",
    "\n",
    "<p style=\"direction: ltr; text-align: left;\"><span style=\"background-color: #ffff99;\">\n",
    "\n",
    "Results showed that decision tree succeeded in expectation% 83 of the data set the stomach test properly, good.\n",
    "</span></p>\n",
    "\n"
   ]
  },
  {
   "cell_type": "markdown",
   "metadata": {
    "collapsed": true
   },
   "source": [
    "\n",
    "<h2 style=\"direction: ltr;\"><span style=\"color: #666666 ;  text-align: center;\">\n",
    "use Model to predicte heart disease Coronary\n",
    "\n",
    "\n",
    "</span></h2>\n",
    "\n",
    "<p style=\"direction: rtl; text-align: left;\"><span style=\"background-color: #d0d0d0;\"><span style=\"color: #ffff00;\"><strong>data for new person\n",
    "\n",
    "   </strong></p>\n",
    "\n",
    "\n",
    "\n"
   ]
  },
  {
   "cell_type": "code",
   "execution_count": 36,
   "metadata": {},
   "outputs": [],
   "source": [
    "male = 1\n",
    "age =65\n",
    "cigsPerDay =0\n",
    "BMI =40\n",
    "glucose =90\n",
    "totChol =120\n",
    "diabetes = 0"
   ]
  },
  {
   "cell_type": "markdown",
   "metadata": {
    "collapsed": true
   },
   "source": [
    "\n",
    "<p style=\"direction: rtl; text-align: left;\"><span style=\"background-color: #d0d0d0;\"><span style=\"color: #ffff00;\"><strong>prediction result\n",
    "\n",
    "\n",
    "   </strong></p>\n",
    "\n",
    "\n",
    "\n"
   ]
  },
  {
   "cell_type": "code",
   "execution_count": 37,
   "metadata": {},
   "outputs": [
    {
     "name": "stdout",
     "output_type": "stream",
     "text": [
      "[0]\n"
     ]
    }
   ],
   "source": [
    "D3.fit(x,y)\n",
    "print ( D3.predict( [[ male ,age ,cigsPerDay ,BMI ,glucose ,totChol,diabetes ]] ))"
   ]
  },
  {
   "cell_type": "markdown",
   "metadata": {},
   "source": [
    "\n",
    "\n",
    "\n",
    "<p style=\"direction: ltr; text-align: left;\"><span style=\"background-color: #ffff99;\">\n",
    "\n",
    "has been expected to disease coronary heart.\n",
    "\n",
    "\n",
    "</span></p>\n",
    "\n"
   ]
  },
  {
   "cell_type": "markdown",
   "metadata": {
    "collapsed": true
   },
   "source": [
    "\n",
    "<p style=\"direction: rtl; text-align: left;\"><span style=\"background-color: #d0d0d0;\"><span style=\"color: #ffff00;\"><strong>add  data of new person to make sure that the form works well:\n",
    "\n",
    "\n",
    "\n",
    "   </strong></p>\n",
    "\n",
    "\n",
    "\n"
   ]
  },
  {
   "cell_type": "code",
   "execution_count": 38,
   "metadata": {},
   "outputs": [],
   "source": [
    "male = 0\n",
    "age =65\n",
    "cigsPerDay =5\n",
    "BMI =25\n",
    "glucose =110\n",
    "totChol =250\n",
    "diabetes = 0"
   ]
  },
  {
   "cell_type": "code",
   "execution_count": 39,
   "metadata": {},
   "outputs": [
    {
     "name": "stdout",
     "output_type": "stream",
     "text": [
      "[0]\n"
     ]
    }
   ],
   "source": [
    "D3.fit(x,y)\n",
    "print ( D3.predict( [[ male ,age ,cigsPerDay ,BMI ,glucose ,totChol ,diabetes ]] ))"
   ]
  },
  {
   "cell_type": "markdown",
   "metadata": {
    "collapsed": true
   },
   "source": [
    "\n",
    "\n",
    "\n",
    "<p style=\"direction: ltr; text-align: left;\"><span style=\"background-color: #ffff99;\">\n",
    "\n",
    " seeing as the result is the[0] Unlike the person former, here was not expected injury new person diabetes\n",
    "\n",
    "\n",
    "\n",
    "</span></p>\n",
    "\n"
   ]
  },
  {
   "cell_type": "markdown",
   "metadata": {
    "collapsed": true
   },
   "source": [
    "<p>&nbsp;</p>\n",
    "<h1 style=\"direction: rtl; text-align: center;\"><span style=\"color: #c80000;\"><span style=\"background-color: #d0d0d0;\">&nbsp; more algorthim \n",
    "</span></h1>\n",
    "\n",
    "\n",
    "\n",
    "<p>&nbsp;</p>\n",
    "<h2 style=\"direction: ltr;\"><span style=\"color: #666666 ;  text-align: center;\">Random Forest \n",
    "</span></h2>\n",
    "\n",
    "<p style=\"direction: ltr; text-align: left;\">\n",
    "algorithm to the forest random derived from the decision tree( Classification and Regression Trees), one of ways to machine learning in order to building model prediction of data, as it is obtained models through the division of data and build a simple form to predict the inside each section \n",
    " </p>\n",
    "<p style=\"direction: ltr; text-align: left ;\"><a href=\"https://www.syr-res.com/article/11866.html\"> soures </a></p>"
   ]
  },
  {
   "cell_type": "markdown",
   "metadata": {
    "collapsed": true
   },
   "source": [
    "<h2 id=\"تحليل-الإرتباط-بين-بيانات-العينات\"  style=\"direction: ltr; text-align: left; \"><span style=\"background-color: #d0d0d0;\"><span style=\"color: #c80000;\">\n",
    "\n",
    "apply  forest random  in the prediction to coronary heart disease\n",
    "</span></h2>\n"
   ]
  },
  {
   "cell_type": "code",
   "execution_count": 40,
   "metadata": {},
   "outputs": [],
   "source": [
    "x = DataSet[['male','age','cigsPerDay','BMI','glucose','totChol','diabetes']].values\n",
    "y = DataSet['TenYearCHD'].values"
   ]
  },
  {
   "cell_type": "code",
   "execution_count": 41,
   "metadata": {},
   "outputs": [],
   "source": [
    "x_train, x_test,y_train,y_test=train_test_split(x,y,test_size=0.2,random_state = 30)"
   ]
  },
  {
   "cell_type": "markdown",
   "metadata": {
    "collapsed": true
   },
   "source": [
    "<p style=\"direction: rtl; text-align: left;\"><span style=\"background-color: #d0d0d0;\"><span style=\"color: #ffff00;\"><strong> Model Forest random classifier   </strong></p>\n"
   ]
  },
  {
   "cell_type": "code",
   "execution_count": 42,
   "metadata": {},
   "outputs": [],
   "source": [
    "Rf = ske.RandomForestClassifier(n_estimators=50)"
   ]
  },
  {
   "cell_type": "code",
   "execution_count": 43,
   "metadata": {},
   "outputs": [
    {
     "data": {
      "text/plain": [
       "RandomForestClassifier(bootstrap=True, class_weight=None, criterion='gini',\n",
       "            max_depth=None, max_features='auto', max_leaf_nodes=None,\n",
       "            min_impurity_decrease=0.0, min_impurity_split=None,\n",
       "            min_samples_leaf=1, min_samples_split=2,\n",
       "            min_weight_fraction_leaf=0.0, n_estimators=50, n_jobs=1,\n",
       "            oob_score=False, random_state=None, verbose=0,\n",
       "            warm_start=False)"
      ]
     },
     "execution_count": 43,
     "metadata": {},
     "output_type": "execute_result"
    }
   ],
   "source": [
    "Rf.fit(x_train,y_train)"
   ]
  },
  {
   "cell_type": "markdown",
   "metadata": {
    "collapsed": true
   },
   "source": [
    "<p style=\"direction: rtl; text-align: left;\"><span style=\"background-color: #d0d0d0;\"><span style=\"color: #ffff00;\"><strong> test the effectiveness of Model:\n",
    "     </strong></p>\n"
   ]
  },
  {
   "cell_type": "code",
   "execution_count": 44,
   "metadata": {},
   "outputs": [
    {
     "name": "stdout",
     "output_type": "stream",
     "text": [
      "85.10928961748634 %\n"
     ]
    }
   ],
   "source": [
    "print(Rf.score (x_test, y_test)*100,\"%\")"
   ]
  },
  {
   "cell_type": "markdown",
   "metadata": {},
   "source": [
    "\n",
    "\n",
    "\n",
    "<p style=\"direction: ltr; text-align: left;\"><span style=\"background-color: #ffff99;\">\n",
    "the forest random succeeded in expectation 84% of the total data stomach test properly, better than the decision tree.\n",
    "\n",
    "\n",
    "</span></p>\n",
    "\n"
   ]
  },
  {
   "cell_type": "markdown",
   "metadata": {
    "collapsed": true
   },
   "source": [
    "\n",
    "<h2 style=\"direction: ltr;\"><span style=\"color: #666666 ;  text-align: center;\">\n",
    "use Model to predicte heart disease Coronary\n",
    "\n",
    "\n",
    "</span></h2>\n",
    "\n",
    "<p style=\"direction: rtl; text-align: left;\"><span style=\"background-color: #d0d0d0;\"><span style=\"color: #ffff00;\"><strong>data for new person\n",
    "\n",
    "   </strong></p>\n",
    "\n",
    "\n",
    "\n"
   ]
  },
  {
   "cell_type": "code",
   "execution_count": 45,
   "metadata": {},
   "outputs": [],
   "source": [
    "male = 0\n",
    "age =65\n",
    "cigsPerDay =20\n",
    "BMI =0\n",
    "glucose =100\n",
    "totChol =120\n",
    "diabetes = 0"
   ]
  },
  {
   "cell_type": "markdown",
   "metadata": {
    "collapsed": true
   },
   "source": [
    "\n",
    "\n",
    "\n",
    "<p style=\"direction: ltr; text-align: left;\"><span style=\"background-color: #ffff99;\">\n",
    "prediction result\n",
    "</span></p>\n",
    "\n"
   ]
  },
  {
   "cell_type": "code",
   "execution_count": 46,
   "metadata": {},
   "outputs": [
    {
     "name": "stdout",
     "output_type": "stream",
     "text": [
      "[1]\n"
     ]
    }
   ],
   "source": [
    "Rf.fit(x,y)\n",
    "print (Rf.predict( [[ male ,age ,cigsPerDay ,BMI ,glucose ,totChol,diabetes ]] ))"
   ]
  },
  {
   "cell_type": "markdown",
   "metadata": {
    "collapsed": true
   },
   "source": [
    "\n",
    "\n",
    "<p>&nbsp;</p>\n",
    "<h2 style=\"direction: ltr;\"><span style=\"color: #666666 ;  text-align: center;\"> Gradient Boosting algorthim </span></h2>\n",
    "\n",
    "<p style=\"direction: ltr; text-align: left;\">\n",
    "algorithm for Category\" Gradient boosting\" will generate many of the trees expectation weak and then integrate it or improvement it the model a strong.\n",
    " \n",
    " </p>\n",
    "<p style=\"direction: ltr; text-align: left ;\"><a href=\"https://www.syr-res.com/article/11866.html\"> soures </a></p>"
   ]
  },
  {
   "cell_type": "code",
   "execution_count": 47,
   "metadata": {},
   "outputs": [],
   "source": [
    "Gb = ske.GradientBoostingClassifier(n_estimators=50)"
   ]
  },
  {
   "cell_type": "code",
   "execution_count": 48,
   "metadata": {},
   "outputs": [
    {
     "data": {
      "text/plain": [
       "GradientBoostingClassifier(criterion='friedman_mse', init=None,\n",
       "              learning_rate=0.1, loss='deviance', max_depth=3,\n",
       "              max_features=None, max_leaf_nodes=None,\n",
       "              min_impurity_decrease=0.0, min_impurity_split=None,\n",
       "              min_samples_leaf=1, min_samples_split=2,\n",
       "              min_weight_fraction_leaf=0.0, n_estimators=50,\n",
       "              presort='auto', random_state=None, subsample=1.0, verbose=0,\n",
       "              warm_start=False)"
      ]
     },
     "execution_count": 48,
     "metadata": {},
     "output_type": "execute_result"
    }
   ],
   "source": [
    "Gb.fit(x_train,y_train)"
   ]
  },
  {
   "cell_type": "markdown",
   "metadata": {
    "collapsed": true
   },
   "source": [
    "<p style=\"direction: rtl; text-align: left;\"><span style=\"background-color: #d0d0d0;\"><span style=\"color: #ffff00;\"><strong> test the effectiveness of Model:\n",
    "     </strong></p>\n"
   ]
  },
  {
   "cell_type": "code",
   "execution_count": 49,
   "metadata": {},
   "outputs": [
    {
     "name": "stdout",
     "output_type": "stream",
     "text": [
      "86.0655737704918 %\n"
     ]
    }
   ],
   "source": [
    "print(Gb.score (x_test, y_test)*100,\"%\")"
   ]
  },
  {
   "cell_type": "markdown",
   "metadata": {},
   "source": [
    "\n",
    "\n",
    "\n",
    "<p style=\"direction: ltr; text-align: left;\"><span style=\"background-color: #ffff99;\">\n",
    "\n",
    " Gradient boost succeeded in expectation 86% of the total data ready- test is Saheehs\n",
    "\n",
    "\n",
    "</span></p>\n",
    "\n"
   ]
  },
  {
   "cell_type": "markdown",
   "metadata": {
    "collapsed": true
   },
   "source": [
    "\n",
    "<h2 style=\"direction: ltr;\"><span style=\"color: #666666 ;  text-align: center;\">\n",
    "use Model to predicte heart disease Coronary\n",
    "\n",
    "\n",
    "</span></h2>\n",
    "\n",
    "<p style=\"direction: rtl; text-align: left;\"><span style=\"background-color: #d0d0d0;\"><span style=\"color: #ffff00;\"><strong>data for new person\n",
    "\n",
    "   </strong></p>\n",
    "\n",
    "\n",
    "\n"
   ]
  },
  {
   "cell_type": "code",
   "execution_count": 50,
   "metadata": {},
   "outputs": [],
   "source": [
    "male = 0\n",
    "age =25\n",
    "cigsPerDay =20\n",
    "BMI =0\n",
    "glucose =100\n",
    "totChol =120\n",
    "diabetes = 0"
   ]
  },
  {
   "cell_type": "markdown",
   "metadata": {
    "collapsed": true
   },
   "source": [
    "\n",
    "\n",
    "\n",
    "<p style=\"direction: ltr; text-align: left;\"><span style=\"background-color: #ffff99;\">\n",
    "prediction result\n",
    "</span></p>\n",
    "\n"
   ]
  },
  {
   "cell_type": "code",
   "execution_count": 51,
   "metadata": {},
   "outputs": [
    {
     "name": "stdout",
     "output_type": "stream",
     "text": [
      "[0]\n"
     ]
    }
   ],
   "source": [
    "Gb.fit(x,y)\n",
    "print (Gb.predict( [[ male ,age ,cigsPerDay ,BMI ,glucose ,totChol,diabetes ]] ))"
   ]
  },
  {
   "cell_type": "markdown",
   "metadata": {
    "collapsed": true
   },
   "source": [
    "\n",
    "\n",
    "<p>&nbsp;</p>\n",
    "<h2 style=\"direction: ltr;\"><span style=\"color: #666666 ;  text-align: center;\"> Voting algorthim </span></h2>\n",
    "\n",
    "<p style=\"direction: ltr; text-align: left;\">\n",
    " algorithm\" Voting\" apply models voting multi- such as models that our work by the on the data, will be tested more than algorithm identifies the result of the expectation best \n",
    " </p>"
   ]
  },
  {
   "cell_type": "code",
   "execution_count": 52,
   "metadata": {},
   "outputs": [],
   "source": [
    "Vc = ske.VotingClassifier([('dt',D3),('rf',Rf ),('gb',Gb)])"
   ]
  },
  {
   "cell_type": "markdown",
   "metadata": {},
   "source": [
    "<p style=\"direction: rtl; text-align: left;\"><span style=\"background-color: #d0d0d0;\"><span style=\"color: #ffff00;\"><strong> test the effectiveness of Model:\n",
    "     </strong></p>\n"
   ]
  },
  {
   "cell_type": "code",
   "execution_count": 53,
   "metadata": {},
   "outputs": [
    {
     "name": "stdout",
     "output_type": "stream",
     "text": [
      "86.0655737704918 %\n"
     ]
    },
    {
     "name": "stderr",
     "output_type": "stream",
     "text": [
      "C:\\ProgramData\\Anaconda3\\lib\\site-packages\\sklearn\\preprocessing\\label.py:151: DeprecationWarning: The truth value of an empty array is ambiguous. Returning False, but in future this will result in an error. Use `array.size > 0` to check that an array is not empty.\n",
      "  if diff:\n"
     ]
    }
   ],
   "source": [
    "Vc.fit(x_train,y_train)\n",
    "print(Vc.score (x_test, y_test)*100,\"%\")"
   ]
  },
  {
   "cell_type": "markdown",
   "metadata": {},
   "source": [
    "\n",
    "\n",
    "\n",
    "<p style=\"direction: ltr; text-align: left;\"><span style=\"background-color: #ffff99;\">\n",
    "algorithm voting succeeded in expectation 86% of the total data ready- test\n",
    "\n",
    "\n",
    "</span></p>\n",
    "\n"
   ]
  },
  {
   "cell_type": "markdown",
   "metadata": {
    "collapsed": true
   },
   "source": [
    "\n",
    "<h2 style=\"direction: ltr;\"><span style=\"color: #666666 ;  text-align: center;\">\n",
    "use Model to predicte heart disease Coronary\n",
    "\n",
    "\n",
    "</span></h2>\n",
    "\n",
    "<p style=\"direction: rtl; text-align: left;\"><span style=\"background-color: #d0d0d0;\"><span style=\"color: #ffff00;\"><strong>data for new person\n",
    "\n",
    "   </strong></p>\n",
    "\n",
    "\n",
    "\n"
   ]
  },
  {
   "cell_type": "code",
   "execution_count": 54,
   "metadata": {},
   "outputs": [],
   "source": [
    "male = 0\n",
    "age =25\n",
    "cigsPerDay =20\n",
    "BMI =0\n",
    "glucose =100\n",
    "totChol =120\n",
    "diabetes = 0"
   ]
  },
  {
   "cell_type": "markdown",
   "metadata": {
    "collapsed": true
   },
   "source": [
    "\n",
    "\n",
    "\n",
    "<p style=\"direction: ltr; text-align: left;\"><span style=\"background-color: #ffff99;\">\n",
    "prediction result\n",
    "</span></p>\n",
    "\n"
   ]
  },
  {
   "cell_type": "code",
   "execution_count": 55,
   "metadata": {},
   "outputs": [
    {
     "name": "stdout",
     "output_type": "stream",
     "text": [
      "[0]\n"
     ]
    },
    {
     "name": "stderr",
     "output_type": "stream",
     "text": [
      "C:\\ProgramData\\Anaconda3\\lib\\site-packages\\sklearn\\preprocessing\\label.py:151: DeprecationWarning: The truth value of an empty array is ambiguous. Returning False, but in future this will result in an error. Use `array.size > 0` to check that an array is not empty.\n",
      "  if diff:\n"
     ]
    }
   ],
   "source": [
    "Vc.fit(x,y)\n",
    "print (Vc.predict( [[ male ,age ,cigsPerDay ,BMI ,glucose ,totChol,diabetes ]] ))"
   ]
  },
  {
   "cell_type": "markdown",
   "metadata": {
    "collapsed": true
   },
   "source": [
    "<h2 style=\"direction: ltr; text-align: center;\"><span style=\"color: #c80000;\">result of perdiction: </span></h2>\n",
    "<p style=\"direction: ltr; text-align: left;\"> in our work in these algorthims that use for machin learing and data mining the result of accurance in desion tree only 83% and random forest 84% and voting algorithm 85%\n",
    "</p>"
   ]
  }
 ],
 "metadata": {
  "kernelspec": {
   "display_name": "Python 3",
   "language": "python",
   "name": "python3"
  },
  "language_info": {
   "codemirror_mode": {
    "name": "ipython",
    "version": 3
   },
   "file_extension": ".py",
   "mimetype": "text/x-python",
   "name": "python",
   "nbconvert_exporter": "python",
   "pygments_lexer": "ipython3",
   "version": "3.6.4"
  }
 },
 "nbformat": 4,
 "nbformat_minor": 2
}
